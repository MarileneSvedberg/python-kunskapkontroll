{
 "cells": [
  {
   "cell_type": "markdown",
   "id": "dacf74e6",
   "metadata": {},
   "source": [
    "# NumPy"
   ]
  },
  {
   "cell_type": "markdown",
   "id": "01b2bf34",
   "metadata": {},
   "source": [
    "Read the links: https://numpy.org/doc/stable/user/quickstart.html  and https://numpy.org/doc/stable/user/basics.broadcasting.html  before solving the exercises. "
   ]
  },
  {
   "cell_type": "code",
   "execution_count": 1,
   "id": "1f79e4a6",
   "metadata": {},
   "outputs": [],
   "source": [
    "import numpy as np"
   ]
  },
  {
   "cell_type": "markdown",
   "id": "7dae6889",
   "metadata": {},
   "source": [
    "### Print out the dimension (number of axes), shape, size and the datatype of the matrix A."
   ]
  },
  {
   "cell_type": "code",
   "execution_count": 7,
   "id": "7b3678cd",
   "metadata": {},
   "outputs": [
    {
     "name": "stdout",
     "output_type": "stream",
     "text": [
      "Dimension: 2\n",
      "Shape: (3, 5)\n",
      "Size: 15\n",
      "Datatype: int64\n"
     ]
    }
   ],
   "source": [
    "A = np.arange(1, 16).reshape(3,5)\n",
    "print(\"Dimension:\", A.ndim)\n",
    "print(\"Shape:\", A.shape)\n",
    "print(\"Size:\", A.size)\n",
    "print(\"Datatype:\", A.dtype)"
   ]
  },
  {
   "cell_type": "code",
   "execution_count": null,
   "id": "31d39235",
   "metadata": {},
   "outputs": [],
   "source": []
  },
  {
   "cell_type": "markdown",
   "id": "e56d2a96",
   "metadata": {},
   "source": [
    "### Do the following computations on the matrices B and C: \n",
    "* Elementwise subtraction. \n",
    "* Elementwise multiplication. \n",
    "* Matrix multiplication (by default you should use the @ operator)."
   ]
  },
  {
   "cell_type": "code",
   "execution_count": 21,
   "id": "a7053fbb",
   "metadata": {},
   "outputs": [
    {
     "name": "stdout",
     "output_type": "stream",
     "text": [
      "This is matris B\n",
      "[[1 2 3]\n",
      " [4 5 6]\n",
      " [7 8 9]]\n",
      "This is matris C\n",
      "[[2. 2. 2.]\n",
      " [2. 2. 2.]\n",
      " [2. 2. 2.]]\n",
      "Elemntwise subtraction B-C\n",
      "[[-1.  0.  1.]\n",
      " [ 2.  3.  4.]\n",
      " [ 5.  6.  7.]]\n",
      "Elementwise multiplication B*C \n",
      "[[ 2.  4.  6.]\n",
      " [ 8. 10. 12.]\n",
      " [14. 16. 18.]]\n",
      "Matrix multiplication B@C by default @\n",
      "[[12. 12. 12.]\n",
      " [30. 30. 30.]\n",
      " [48. 48. 48.]]\n"
     ]
    }
   ],
   "source": [
    "B = np.arange(1, 10).reshape(3, 3)\n",
    "C = np.ones((3, 3))*2\n",
    "print('This is matris B')\n",
    "print(B)\n",
    "print('This is matris C')\n",
    "print(C)\n",
    "print('Elemntwise subtraction B-C')\n",
    "print(B - C)\n",
    "print('Elementwise multiplication B*C ')\n",
    "print(B * C)\n",
    "print('Matrix multiplication B@C by default @')\n",
    "print(B @ C)"
   ]
  },
  {
   "cell_type": "code",
   "execution_count": null,
   "id": "3cd794ae",
   "metadata": {},
   "outputs": [],
   "source": []
  },
  {
   "cell_type": "markdown",
   "id": "96030d53",
   "metadata": {},
   "source": [
    "### Do the following calculations on the matrix:\n",
    "* Exponentiate each number elementwise (use the np.exp function).\n",
    "\n",
    "* Calculate the minimum value in the whole matrix. \n",
    "* Calculcate the minimum value in each row. \n",
    "* Calculcate the minimum value in each column. \n",
    "\n",
    "\n",
    "* Find the index value for the minimum value in the whole matrix (hint: use np.argmin).\n",
    "* Find the index value for the minimum value in each row (hint: use np.argmin).\n",
    "\n",
    "\n",
    "* Calculate the sum for all elements.\n",
    "* Calculate the mean for each column. \n",
    "* Calculate the median for each column. "
   ]
  },
  {
   "cell_type": "code",
   "execution_count": 47,
   "id": "f8a9166b",
   "metadata": {},
   "outputs": [
    {
     "name": "stdout",
     "output_type": "stream",
     "text": [
      "Matrix B:\n",
      "[[1 2 3]\n",
      " [4 5 6]\n",
      " [7 8 9]]\n"
     ]
    }
   ],
   "source": [
    "import numpy as np\n",
    "# skapa matrisen B\n",
    "B = np.arange(1, 10).reshape(3, 3)\n",
    "print(\"Matrix B:\")\n",
    "print(B)"
   ]
  },
  {
   "cell_type": "code",
   "execution_count": 49,
   "id": "f03f24f7",
   "metadata": {},
   "outputs": [
    {
     "name": "stdout",
     "output_type": "stream",
     "text": [
      "\n",
      "Exponentierade värden (np.exp):\n",
      "[[2.71828183e+00 7.38905610e+00 2.00855369e+01]\n",
      " [5.45981500e+01 1.48413159e+02 4.03428793e+02]\n",
      " [1.09663316e+03 2.98095799e+03 8.10308393e+03]]\n"
     ]
    }
   ],
   "source": [
    "#Exponentiate each number elementwise\n",
    "exp_B = np.exp(B)\n",
    "print(\"\\nExponentierade värden (np.exp):\")\n",
    "print(exp_B)"
   ]
  },
  {
   "cell_type": "code",
   "execution_count": 51,
   "id": "811558f6-fed6-4c04-94fb-61ff45997c99",
   "metadata": {},
   "outputs": [
    {
     "name": "stdout",
     "output_type": "stream",
     "text": [
      "\n",
      "Minimumvärde i hela matrisen: 1\n"
     ]
    }
   ],
   "source": [
    "# Minimumvärde i hela matrisen\n",
    "min_value = np.min(B)\n",
    "print(\"\\nMinimumvärde i hela matrisen:\", min_value)"
   ]
  },
  {
   "cell_type": "code",
   "execution_count": 55,
   "id": "461f91f9-77ec-4e12-9b78-950d954c4c1c",
   "metadata": {},
   "outputs": [
    {
     "name": "stdout",
     "output_type": "stream",
     "text": [
      "Minimumvärde i varje rad: [1 4 7]\n"
     ]
    }
   ],
   "source": [
    "# Minimumvärde i varje rad\n",
    "min_value_row = np.min(B, axis=1)\n",
    "print(\"Minimumvärde i varje rad:\", min_value_row)"
   ]
  },
  {
   "cell_type": "code",
   "execution_count": 59,
   "id": "65bb95b2-82c3-4643-8ca5-4d5d1b50f5cd",
   "metadata": {},
   "outputs": [
    {
     "name": "stdout",
     "output_type": "stream",
     "text": [
      "Minimumvärde i varje kolumn: [1 2 3]\n"
     ]
    }
   ],
   "source": [
    "# Minimumvärde i varje kolumn\n",
    "min_value_col = np.min(B, axis=0)\n",
    "print(\"Minimumvärde i varje kolumn:\", min_value_col)"
   ]
  },
  {
   "cell_type": "code",
   "execution_count": 61,
   "id": "d6f48b2d-a8cc-488d-9f07-11527904a50d",
   "metadata": {},
   "outputs": [
    {
     "name": "stdout",
     "output_type": "stream",
     "text": [
      "\n",
      "Index för minimumvärdet i hela matrisen: 0\n"
     ]
    }
   ],
   "source": [
    "# Index för minimumvärdet i hela matrisen\n",
    "min_index = np.argmin(B)\n",
    "print(\"\\nIndex för minimumvärdet i hela matrisen:\", min_index)"
   ]
  },
  {
   "cell_type": "code",
   "execution_count": 63,
   "id": "c9ea190a-c124-4fb1-b0eb-43424db890ce",
   "metadata": {},
   "outputs": [
    {
     "name": "stdout",
     "output_type": "stream",
     "text": [
      "\n",
      "Index för minimumvärdet i hela matrisen: 0\n"
     ]
    }
   ],
   "source": [
    "# Index för minimumvärdet i varje rad\n",
    "min_index_row = np.argmin(B, axis=1)\n",
    "print(\"\\nIndex för minimumvärdet i hela matrisen:\", min_index)"
   ]
  },
  {
   "cell_type": "code",
   "execution_count": 65,
   "id": "da20471b-5de7-4720-b0ac-95522ed91cf6",
   "metadata": {},
   "outputs": [
    {
     "name": "stdout",
     "output_type": "stream",
     "text": [
      "\n",
      "Summa av alla element: 45\n"
     ]
    }
   ],
   "source": [
    "# Summera alla element\n",
    "sum_elements = np.sum(B)\n",
    "print(\"\\nSumma av alla element:\", sum_elements)"
   ]
  },
  {
   "cell_type": "code",
   "execution_count": 67,
   "id": "2f0ca687-90d9-4c7a-8f53-5d4b0798f9ef",
   "metadata": {},
   "outputs": [
    {
     "name": "stdout",
     "output_type": "stream",
     "text": [
      "Medelvärde för varje kolumn: [4. 5. 6.]\n"
     ]
    }
   ],
   "source": [
    "# Medelvärde för varje kolumn\n",
    "mean_col = np.mean(B, axis=0)\n",
    "print(\"Medelvärde för varje kolumn:\", mean_col)"
   ]
  },
  {
   "cell_type": "code",
   "execution_count": 69,
   "id": "9856e9fc-8b98-46b9-ad2d-5d4b6d4f11f0",
   "metadata": {},
   "outputs": [
    {
     "name": "stdout",
     "output_type": "stream",
     "text": [
      "Median för varje kolumn: [4. 5. 6.]\n"
     ]
    }
   ],
   "source": [
    "# Median för varje kolumn\n",
    "median_col = np.median(B, axis=0)\n",
    "print(\"Median för varje kolumn:\", median_col)"
   ]
  },
  {
   "cell_type": "code",
   "execution_count": null,
   "id": "47b3ee45-6009-42b1-97c4-648d4766617e",
   "metadata": {},
   "outputs": [],
   "source": []
  },
  {
   "cell_type": "markdown",
   "id": "493186f9-29f8-4ba2-bb2d-6119b8cbac29",
   "metadata": {},
   "source": [
    "### What does it mean when you provide fewer indices than axes when slicing? See example below.\n"
   ]
  },
  {
   "cell_type": "code",
   "execution_count": 77,
   "id": "9c8abf56",
   "metadata": {},
   "outputs": [
    {
     "name": "stdout",
     "output_type": "stream",
     "text": [
      "[[ 1  2  3  4  5]\n",
      " [ 6  7  8  9 10]\n",
      " [11 12 13 14 15]]\n",
      "The history saving thread hit an unexpected error (OperationalError('attempt to write a readonly database')).History will not be written to the database.\n"
     ]
    }
   ],
   "source": [
    "print(A)"
   ]
  },
  {
   "cell_type": "code",
   "execution_count": 79,
   "id": "69415f7b",
   "metadata": {},
   "outputs": [
    {
     "data": {
      "text/plain": [
       "array([ 6,  7,  8,  9, 10])"
      ]
     },
     "execution_count": 79,
     "metadata": {},
     "output_type": "execute_result"
    }
   ],
   "source": [
    "A[1]"
   ]
  },
  {
   "cell_type": "markdown",
   "id": "6c53541b",
   "metadata": {},
   "source": [
    "**Answer:**\n",
    "När man gör en slicing som A[1], betyder det att man vill ha den andra raden\n",
    "Index 1 motsvara andra raden i matrisen (första raden har index 0), eftersom man skrev ingen index för kolumn, så tolkar NumPy att man vill ta med alla element i de axlar som inte är angivna, dvs, alla element av alla kolumner på den andra raden. \n",
    "Resultatet blir därför hela den andra raden"
   ]
  },
  {
   "cell_type": "code",
   "execution_count": 91,
   "id": "de01e120",
   "metadata": {},
   "outputs": [],
   "source": []
  },
  {
   "cell_type": "markdown",
   "id": "6652d0c9",
   "metadata": {},
   "source": [
    "### Iterating over multidimensional arrays is done with respect to the first axis, so in the example below we iterate trough the rows. If you would like to iterate through the array *elementwise*, how would you do that?"
   ]
  },
  {
   "cell_type": "code",
   "execution_count": 94,
   "id": "9459864f",
   "metadata": {},
   "outputs": [
    {
     "data": {
      "text/plain": [
       "array([[ 1,  2,  3,  4,  5],\n",
       "       [ 6,  7,  8,  9, 10],\n",
       "       [11, 12, 13, 14, 15]])"
      ]
     },
     "execution_count": 94,
     "metadata": {},
     "output_type": "execute_result"
    }
   ],
   "source": [
    "A"
   ]
  },
  {
   "cell_type": "code",
   "execution_count": 96,
   "id": "a671bb5a",
   "metadata": {},
   "outputs": [
    {
     "name": "stdout",
     "output_type": "stream",
     "text": [
      "[1 2 3 4 5]\n",
      "[ 6  7  8  9 10]\n",
      "[11 12 13 14 15]\n"
     ]
    }
   ],
   "source": [
    "for i in A:\n",
    "    print(i)"
   ]
  },
  {
   "cell_type": "markdown",
   "id": "b27fcc7c-ff58-48b7-b7eb-b122bc24bb54",
   "metadata": {},
   "source": [
    "**Answer:**\n",
    "Koden ovanför itererar först genom raderna i A och sedan genom varje element i de raderna."
   ]
  },
  {
   "cell_type": "markdown",
   "id": "608a2583",
   "metadata": {},
   "source": [
    "### Explain what the code below does. More specifically, b has three axes - what does this mean? "
   ]
  },
  {
   "cell_type": "code",
   "execution_count": 108,
   "id": "f8f9b26f",
   "metadata": {},
   "outputs": [
    {
     "name": "stdout",
     "output_type": "stream",
     "text": [
      "Här är a\n",
      "[ 0  1  2  3  4  5  6  7  8  9 10 11 12 13 14 15 16 17 18 19 20 21 22 23\n",
      " 24 25 26 27 28 29]\n",
      "Här är b\n",
      "[[[ 0  1  2  3  4]\n",
      "  [ 5  6  7  8  9]\n",
      "  [10 11 12 13 14]]\n",
      "\n",
      " [[15 16 17 18 19]\n",
      "  [20 21 22 23 24]\n",
      "  [25 26 27 28 29]]]\n"
     ]
    }
   ],
   "source": [
    "a = np.arange(30) #Den skapar en !D array med 30 heltal som startar med 0 och slutar med 29\n",
    "b = a.reshape((2, 3, -1)) # funktion Reshape ändrar shape till array a (2 är storlek av första axeln, 3 storlek av andra axeln och \n",
    "                          # och -1 betyder att NumPy beräknar automatiskt storleken på axeln\n",
    "print(\"Här är a\")\n",
    "print(a)\n",
    "print(\"Här är b\")\n",
    "print(b)"
   ]
  },
  {
   "cell_type": "markdown",
   "id": "71d9832d-51c5-4595-9176-2c12a8493dc4",
   "metadata": {},
   "source": [
    "**Answer:**\n",
    "\n",
    "\"a = np.arange(30)\" - Den skapar en !D array med 30 heltal som startar med 0 och slutar med 29\n",
    "\"b = a.reshape((2, 3, -1))\"funktion Reshape ändrar shape till array a (2 är storlek av första axeln, 3 storlek av andra axeln och -1 betyder att NumPy beräknar automatiskt storleken på axeln\n",
    "\n",
    "b har två block:\n",
    "block 1 som representerar index 0 innehåller 3 rader och 5 kolumner och visar tal från 0 till 14\n",
    "block 2 representerar index 1, innehåller 3 rader och 5 kolumner och visar tal från 15 till 29\n",
    "\n",
    "Sammanfattning:\n",
    "a är en endimensionell array, 1D-array, med 30 element\n",
    "b är en 3D-array med formen (2, 3, 5), vilket innebär att den har 2 block, 3 rader och 5 kolumner per rad\n",
    "-1 i reshape gör att NumPy automatiskt beräknar storleken på den sista axeln (här som 5) baserat på de andra axlarnas storlekar och det totala antalet element.\n",
    "\n"
   ]
  },
  {
   "cell_type": "code",
   "execution_count": null,
   "id": "863a45df",
   "metadata": {},
   "outputs": [],
   "source": []
  },
  {
   "cell_type": "code",
   "execution_count": null,
   "id": "eed38bbb-dd20-4d23-837f-679aa3d3a067",
   "metadata": {},
   "outputs": [],
   "source": []
  },
  {
   "cell_type": "markdown",
   "id": "421c9607-819a-401d-949a-97424436fe29",
   "metadata": {},
   "source": [
    "# For the exercises below, read the document *\"matematik_yh_antonio_vektorer_matriser_utdrag\"*\n",
    "# Solutions to the exercises and recorded videos can be found here: https://github.com/AntonioPrgomet/matematik_foer_yh\n",
    "\n",
    "# If you find the exercises below very hard, do not worry. Try your best, that will be enough. "
   ]
  },
  {
   "cell_type": "markdown",
   "id": "ab5933d5",
   "metadata": {},
   "source": [
    "### Broadcasting\n",
    "**Read the following link about broadcasting: https://numpy.org/doc/stable/user/basics.broadcasting.html#basics-broadcasting**"
   ]
  },
  {
   "cell_type": "markdown",
   "id": "039805ba",
   "metadata": {},
   "source": [
    "# Remark on Broadcasting when doing Linear Algebra calculations in Python. "
   ]
  },
  {
   "cell_type": "markdown",
   "id": "c4bcc147",
   "metadata": {},
   "source": [
    "### From the mathematical rules of matrix addition, the operation below (m1 + m2) does not make sense. The reason is that matrix addition requires two matrices of the same size. In Python however, it works due to broadcasting rules in NumPy. So you must be careful when doing Linear Algebra calculations in Python since they do not follow the \"mathematical rules\". This can however easily be handled by doing some simple programming, for example validating that two matrices have the same shape is easy if you for instance want to add two matrices. "
   ]
  },
  {
   "cell_type": "code",
   "execution_count": 119,
   "id": "1fd46778",
   "metadata": {},
   "outputs": [
    {
     "name": "stdout",
     "output_type": "stream",
     "text": [
      "Matrices have different shapes and cannot be added.\n"
     ]
    }
   ],
   "source": [
    "m1 = np.array([[1, 2], [3, 4]])\n",
    "m2 = np.array([1, 1])\n",
    "#print(m1 + m2)\n",
    "\n",
    "if m1.shape == m2.shape:\n",
    "    print(m1 + m2)\n",
    "else:\n",
    "    print(\"Matrices have different shapes and cannot be added.\")"
   ]
  },
  {
   "cell_type": "markdown",
   "id": "047d6576",
   "metadata": {},
   "source": [
    "### The example below would also not be allowed if following the \"mathematical rules\" in Linear Algebra. But it works due to broadcasting in NumPy. "
   ]
  },
  {
   "cell_type": "code",
   "execution_count": 121,
   "id": "5e6ef2e4",
   "metadata": {},
   "outputs": [
    {
     "name": "stdout",
     "output_type": "stream",
     "text": [
      "[1 2 3]\n",
      "[2 3 4]\n"
     ]
    }
   ],
   "source": [
    "v1 = np.array([1, 2, 3])\n",
    "print(v1)\n",
    "print(v1 + 1)"
   ]
  },
  {
   "cell_type": "markdown",
   "id": "4e3e7bc6-718c-4c53-aa39-9c71566970ec",
   "metadata": {},
   "source": [
    "**Answer:**\n",
    "v1 är en endimensionell vektor med 3 elementer (1D-array)\n",
    "Här, NumPy adderar automatiskt 1 för varje element i vektoren. \n",
    "#[1+1, 2+1, 3+1] = [2, 3, 4]\n",
    "\n",
    "Alltså, detta fungerar så, eftersom broadcasting gör att skalären 1 appliceras elementsvis på vektor v1"
   ]
  },
  {
   "cell_type": "code",
   "execution_count": 123,
   "id": "e2cbae26",
   "metadata": {},
   "outputs": [
    {
     "name": "stdout",
     "output_type": "stream",
     "text": [
      "[[1 2]\n",
      " [3 4]]\n",
      "[2 2]\n"
     ]
    }
   ],
   "source": [
    "A = np.arange(1, 5).reshape(2,2)\n",
    "print(A)\n",
    "\n",
    "b = np.array([2, 2])\n",
    "print(b)"
   ]
  },
  {
   "cell_type": "markdown",
   "id": "2aefe029-37a6-45b5-a0ac-d69320170af0",
   "metadata": {},
   "source": [
    "**Answer:**\n",
    "Koden A=np.arange(1,5).reshape(2,2) skapar en 1D-array (endimentionell vektor) med siffrona från 1 till 4\n",
    "och .reshape(2,2) omformar den till en 2x2 matris.\n",
    "[[1 2]\n",
    " [3, 4]]\n",
    "\n",
    " np.array([2,2]) skapar en 1D-array(vektor) med två element [2, 2]\n",
    "\n",
    " Sammanfattning:\n",
    "\n",
    " Brodcasting gör att skalär 1 läggs till varje element i den vektoren v1\n",
    "\n",
    " Man kan skapa en 2D-matris genom att omforma en 1D-array är en giltig operation inom NumPy och behöver ingen broadcastin, bara omformning\n",
    "\n",
    " Alltså, matris- och vektoroperationer i Python kan följa broadcasting-reglerna vilket skiljer sig från matematiska reglerna inom linjär algebra. \n",
    "\n",
    " Broadcast gör att operationer mellan vektorer med olika former kan fungera så länge de kan justeras enligt vissa regler, som t.ex en skalär kan läggas till vektorer med olika dimensioner."
   ]
  },
  {
   "cell_type": "code",
   "execution_count": null,
   "id": "99e1c502-5262-49b7-8b4b-9e7dfc7b0a69",
   "metadata": {},
   "outputs": [],
   "source": []
  },
  {
   "cell_type": "markdown",
   "id": "722fd5cd",
   "metadata": {},
   "source": [
    "# Vector- and matrix algebra Exercises"
   ]
  },
  {
   "cell_type": "markdown",
   "id": "b63a3081-d976-4d9f-bfd0-a63917e79f7d",
   "metadata": {},
   "source": [
    "**Now you are going to create a function that can be reused every time you add or multiply matrices. The function is created so that we do the addition and multiplication according to the rules of vector- and matrix algebra.**\n",
    "\n",
    "**Create a function \"add_mult_matrices\" that takes two matrices as input arguments (validate that the input are of the type numpy.ndarray by using the isinstance function), a third argument that is either 'add' or 'multiply' that specifies if you want to add or multiply the matrices (validate that the third argument is either 'add' or 'multiply'). When doing matrix addition, validate that the matrices have the same size. When doing matrix multiplication, validate that the sizes conform (i.e. number of columns in the first matrix is equal to the number of rows in the second matrix).**"
   ]
  },
  {
   "cell_type": "code",
   "execution_count": 136,
   "id": "3506f977-ac0a-473f-85bc-eec9f35dc498",
   "metadata": {},
   "outputs": [],
   "source": [
    "import numpy as np\n",
    "\n",
    "def add_mult_matrices(m1, m2, operation):\n",
    "    # Validate that m1 and m2 are numpy.ndarray\n",
    "    if not isinstance(m1, np.ndarray) or not isinstance(m2, np.ndarray):\n",
    "        raise ValueError(\"Both input matrices must be of type numpy.ndarray\")\n",
    "    \n",
    "    # Validate that the operation is either 'add' or 'multiply'\n",
    "    if operation not in ['add', 'multiply']:\n",
    "        raise ValueError(\"The operation must be either 'add' or 'multiply'\")\n",
    "    \n",
    "    # Perform addition\n",
    "    if operation == 'add':\n",
    "        # Check if the matrices have the same shape\n",
    "        if m1.shape != m2.shape:\n",
    "            raise ValueError(\"Matrices must have the same shape for addition\")\n",
    "        return m1 + m2\n",
    "    \n",
    "    # Perform multiplication\n",
    "    elif operation == 'multiply':\n",
    "        # Check if multiplication is possible (columns of m1 == rows of m2)\n",
    "        if m1.shape[1] != m2.shape[0]:\n",
    "            raise ValueError(\"The number of columns in the first matrix must equal the number of rows in the second matrix\")\n",
    "        return np.dot(m1, m2)\n"
   ]
  },
  {
   "cell_type": "code",
   "execution_count": 150,
   "id": "bcbc8e5f-7c4d-4995-b089-af8a94fe9a85",
   "metadata": {},
   "outputs": [
    {
     "name": "stdout",
     "output_type": "stream",
     "text": [
      "Multiplication of m1 and m2:\n",
      "[3 7]\n"
     ]
    }
   ],
   "source": [
    "#exempel \n",
    "m1 = np.array([[1, 2], [3, 4]])\n",
    "m2 = np.array([1, 1])\n",
    "#print(\"Addition of m1 and m2:\")\n",
    "#print(add_mult_matrices(m1, m2, 'add'))\n",
    "\n",
    "print(\"Multiplication of m1 and m2:\")\n",
    "print(add_mult_matrices(m1, m2, 'multiply'))\n"
   ]
  },
  {
   "cell_type": "code",
   "execution_count": null,
   "id": "2d033e29-75cc-4b0d-a919-611b8844123d",
   "metadata": {},
   "outputs": [],
   "source": []
  },
  {
   "cell_type": "markdown",
   "id": "8dad82d0-2359-4dff-8f5b-a57d3e34103c",
   "metadata": {},
   "source": [
    "### Solve all the exercises in chapter 10.1 in the book \"Matematik för yrkeshögskolan\". "
   ]
  },
  {
   "cell_type": "code",
   "execution_count": 218,
   "id": "89df88af-3668-4d98-a0a4-e6d92eea0f89",
   "metadata": {},
   "outputs": [
    {
     "name": "stdout",
     "output_type": "stream",
     "text": [
      "a) Dimension of x:(2,)\n",
      "b) 5x:[20 15]\n",
      "c) 3x:[12  9]\n",
      "d) 5x + 3x:[32 24]\n",
      "e) 8x : [32 24]\n",
      "f)  4x - x: [12  9]\n",
      "g) x^T: [[4]\n",
      " [3]]\n",
      "h) x + x^T: [[8 7]\n",
      " [7 6]]\n",
      "i) ||x||: 5.0\n"
     ]
    }
   ],
   "source": [
    "import numpy as np\n",
    "x = np.array([4, 3])\n",
    "\n",
    "#a) Vilka dimension har vektorn x?\n",
    "print (\"a)\", f\"Dimension of x:{x.shape}\")\n",
    "\n",
    "#b) Calculate 5x\n",
    "five_x = 5 * x\n",
    "print (\"b)\", f\"5x:{five_x}\")\n",
    "\n",
    "#c) Calculate 3x\n",
    "three_x = 3 * x\n",
    "print(\"c)\", f\"3x:{three_x}\")\n",
    "\n",
    "#d) Calculate 5x + 3x\n",
    "result_5x_3x = five_x + three_x\n",
    "print(\"d)\", f\"5x + 3x:{result_5x_3x}\")\n",
    "\n",
    "#e) Calculate 8x\n",
    "eight_x = 8 *x\n",
    "print(\"e)\", f\"8x : {eight_x}\")\n",
    "\n",
    "#f) Calculate 4x - x\n",
    "result_4x_x = (4*x) - x\n",
    "print(\"f)\", f\" 4x - x: {result_4x_x}\")\n",
    "\n",
    "#g) Calculate X^T (Transpose of x)\n",
    "x_transpose = x.reshape(-1, 1)\n",
    "print(\"g)\", f\"x^T: {x_transpose}\")\n",
    "\n",
    "#h) Is x + x^T definierat? Calculate |x|\n",
    "try:\n",
    "    x_plus_x_transpose = x + x_transpose\n",
    "except ValueError:\n",
    "    x_plus_x_transpose = \"Not defined\"\n",
    "\n",
    "print(\"h)\", f\"x + x^T: {x_plus_x_transpose}\")\n",
    "\n",
    "# i) Calculate normalisering x\n",
    "norm_x = np.linalg.norm(x)\n",
    "print(\"i)\", f\"||x||: {norm_x}\")"
   ]
  },
  {
   "cell_type": "code",
   "execution_count": 236,
   "id": "22b7b721-9631-4c07-92c3-4f1f7d69c534",
   "metadata": {},
   "outputs": [
    {
     "name": "stdout",
     "output_type": "stream",
     "text": [
      "[ 3  7  0 11]\n",
      "a) Dimension of v: (4,)\n",
      "b) 2v: [ 6 14  0 22]\n",
      "c) 5v + 2v: [ 9 21  0 33]\n",
      "d) 4v - 2v: [ 6 14  0 22]\n",
      "e) v^T: [[ 3]\n",
      " [ 7]\n",
      " [ 0]\n",
      " [11]]\n",
      "f) ||v||: 13.379088160259652\n"
     ]
    }
   ],
   "source": [
    "#Exercise 10.1.2  Define the vector v\n",
    "\n",
    "v = np.array([3, 7, 0, 11])\n",
    "print (v)\n",
    "\n",
    "#a) Dimension of v\n",
    "print(\"a)\", f\"Dimension of v: {v.shape}\")\n",
    "\n",
    "#b) Calculate 2v\n",
    "two_v = 2 * v\n",
    "print(\"b)\", f\"2v: {two_v}\")\n",
    "\n",
    "#c) Calculate 5v + 2v\n",
    "result_5v_2v = (5*v) - two_v\n",
    "print(\"c)\", f\"5v + 2v: {result_5v_2v}\")\n",
    "\n",
    "#d) Calculate 4v - 2v\n",
    "result_4v_2v = (4*v) - two_v\n",
    "print(\"d)\", f\"4v - 2v: {result_4v_2v}\")\n",
    "\n",
    "# (e) Calculate v^T (transpose of v)\n",
    "v_transpose = v.reshape(-1, 1)\n",
    "print(\"e)\", f\"v^T: {v_transpose}\")\n",
    "\n",
    "# (f) Calculate ||v||\n",
    "norm_v = np.linalg.norm(v)\n",
    "print(\"f)\", f\"||v||: {norm_v}\")"
   ]
  },
  {
   "cell_type": "code",
   "execution_count": 240,
   "id": "5764059d-e82f-4d33-bd33-e10014b76a82",
   "metadata": {},
   "outputs": [
    {
     "name": "stdout",
     "output_type": "stream",
     "text": [
      "a) ||v1||: 7.14142842854285\n",
      "b ||v1 - v2||: 4.47213595499958\n"
     ]
    }
   ],
   "source": [
    "# Exercise 10.1.3: Define the vectors v1 and v2\n",
    "v1 = np.array([4, 3, 1, 5])\n",
    "v2 = np.array([2, 3, 1, 1])\n",
    "\n",
    "# (a) Calculate ||v1||\n",
    "norm_v1 = np.linalg.norm(v1)\n",
    "print(\"a)\", f\"||v1||: {norm_v1}\")\n",
    "\n",
    "# (b) Calculate ||v1 - v2||\n",
    "v1_minus_v2 = v1 - v2\n",
    "norm_v1_minus_v2 = np.linalg.norm(v1_minus_v2)\n",
    "print(\"b\", f\"||v1 - v2||: {norm_v1_minus_v2}\")"
   ]
  },
  {
   "cell_type": "markdown",
   "id": "75c98984-1f88-4df1-b850-d2466de444a5",
   "metadata": {},
   "source": [
    "### Solve all the exercises, except 10.2.4, in chapter 10.2 in the book \"Matematik för yrkeshögskolan\". "
   ]
  },
  {
   "cell_type": "code",
   "execution_count": 246,
   "id": "65371610-16e1-48b2-b7fb-65e49002608a",
   "metadata": {},
   "outputs": [
    {
     "data": {
      "text/plain": [
       "(array([[ 4,  2, -2],\n",
       "        [ 2, -2,  2]]),\n",
       " array([[ 0, -4,  3],\n",
       "        [ 0, -2, -4]]),\n",
       " array([[ 1,  4],\n",
       "        [ 2, -1]]),\n",
       " array([[3, 2],\n",
       "        [2, 3]]),\n",
       " array([[ 9, 12],\n",
       "        [12,  9]]),\n",
       " array([[-4, -4],\n",
       "        [-4, -4]]),\n",
       " 'Not defined',\n",
       " 'Not defined due to shape mismatch',\n",
       " array([[11, 10],\n",
       "        [10, 11]]),\n",
       " array([[  8, -10,  -3],\n",
       "        [ 10,  -8,   0]]),\n",
       " array([[1, 2],\n",
       "        [2, 1]]))"
      ]
     },
     "execution_count": 246,
     "metadata": {},
     "output_type": "execute_result"
    }
   ],
   "source": [
    "import numpy as np\n",
    "\n",
    "# Define the matrices\n",
    "A = np.array([[2, 1, -1], [1, -1, 1]])\n",
    "B = np.array([[4, -2, 1], [2, -4, -2]])\n",
    "C = np.array([[1, 2], [2, 1]])\n",
    "D = np.array([[3, 4], [4, 3]])\n",
    "E = np.array([[1], [2]])\n",
    "I = np.array([[1, 0], [0, 1]])\n",
    "\n",
    "# (a) Calculate 2A\n",
    "two_A = 2 * A\n",
    "\n",
    "# (b) Calculate B - 2A\n",
    "B_minus_two_A = B - 2 * A\n",
    "\n",
    "# (c) Calculate 3C - 2E\n",
    "three_C = 3 * C\n",
    "two_E = 2 * E\n",
    "three_C_minus_two_E = three_C - two_E\n",
    "\n",
    "# (d) Calculate 2D - 3C\n",
    "two_D = 2 * D\n",
    "three_C = 3 * C\n",
    "two_D_minus_three_C = two_D - three_C\n",
    "\n",
    "# (e) Calculate D^T + 2D\n",
    "D_transpose = D.T\n",
    "two_D = 2 * D\n",
    "D_transpose_plus_two_D = D_transpose + two_D\n",
    "\n",
    "# (f) Calculate 2C^T - 2D^T\n",
    "C_transpose = C.T\n",
    "D_transpose = D.T\n",
    "two_C_transpose = 2 * C_transpose\n",
    "two_D_transpose = 2 * D_transpose\n",
    "two_C_transpose_minus_two_D_transpose = two_C_transpose - two_D_transpose\n",
    "\n",
    "# (g) Calculate A^T - B (not defined if dimensions don't match)\n",
    "A_transpose = A.T\n",
    "try:\n",
    "    A_transpose_minus_B = A_transpose - B\n",
    "except ValueError:\n",
    "    A_transpose_minus_B = \"Not defined\"\n",
    "\n",
    "# (h) Calculate AC (this operation will be skipped due to dimension mismatch)\n",
    "AC = \"Not defined due to shape mismatch\"\n",
    "\n",
    "# (i) Calculate CD\n",
    "try:\n",
    "    CD = np.dot(C, D)\n",
    "except ValueError:\n",
    "    CD = \"Not defined due to shape mismatch\"\n",
    "\n",
    "# (j) Calculate CB\n",
    "try:\n",
    "    CB = np.dot(C, B)\n",
    "except ValueError:\n",
    "    CB = \"Not defined due to shape mismatch\"\n",
    "\n",
    "# (k) Calculate CI\n",
    "CI = np.dot(C, I)\n",
    "\n",
    "# Output the results\n",
    "two_A, B_minus_two_A, three_C_minus_two_E, two_D_minus_three_C, D_transpose_plus_two_D, two_C_transpose_minus_two_D_transpose, A_transpose_minus_B, AC, CD, CB, CI\n"
   ]
  },
  {
   "cell_type": "markdown",
   "id": "6a4a524f",
   "metadata": {},
   "source": [
    "### Copies and Views\n",
    "Read the following link: https://numpy.org/doc/stable/user/basics.copies.html"
   ]
  },
  {
   "cell_type": "markdown",
   "id": "6cbbeaf7",
   "metadata": {},
   "source": [
    "**Basic indexing creates a view, How can you check if v1 and v2 is a view or copy? If you change the last element in v2 to 123, will the last element in v1 be changed? Why?**"
   ]
  },
  {
   "cell_type": "code",
   "execution_count": 270,
   "id": "5b9ef4df",
   "metadata": {},
   "outputs": [
    {
     "name": "stdout",
     "output_type": "stream",
     "text": [
      "v1: [0 1 2 3]\n",
      "v2: [2 3]\n",
      "True\n",
      "v1 after modifying v2: [  0   1   2 123]\n",
      "v2 after modification: [  2 123]\n"
     ]
    }
   ],
   "source": [
    "v1 = np.arange(4)\n",
    "v2 = v1[-2:]\n",
    "print(\"v1:\", v1)\n",
    "print(\"v2:\", v2)"
   ]
  },
  {
   "cell_type": "code",
   "execution_count": null,
   "id": "87b5129e-1395-42cb-b465-9a2f58f5709e",
   "metadata": {},
   "outputs": [],
   "source": []
  },
  {
   "cell_type": "code",
   "execution_count": 272,
   "id": "d2440489",
   "metadata": {},
   "outputs": [
    {
     "name": "stdout",
     "output_type": "stream",
     "text": [
      "None\n",
      "[  0   1   2 123]\n",
      "True\n"
     ]
    }
   ],
   "source": [
    "# The base attribute of a view returns the original array while it returns None for a copy.\n",
    "print(v1.base)\n",
    "print(v2.base)\n",
    "\n",
    "#Since v1 is the original array, it does not have a base, therefore its output is None\n",
    "#Since v2 is a view of v1, it returns the original array [0 1 2 3 ]\n",
    "\n",
    "#another way to verify if the v1 and v2 are views or copies is to write following code:\n",
    "\n",
    "#check if v1 and v2 are views or copies:\n",
    "print(np.shares_memory(v1, v2)) # It will return True or False, in this case True because they are views."
   ]
  },
  {
   "cell_type": "code",
   "execution_count": 274,
   "id": "c8752807",
   "metadata": {},
   "outputs": [
    {
     "name": "stdout",
     "output_type": "stream",
     "text": [
      "v1 after modifying v2: [  0   1   2 123]\n",
      "v2 after modification: [  2 123]\n"
     ]
    }
   ],
   "source": [
    "# The last element in v1 will be changed aswell since v2 is a view, meaning they share the same data buffer.\n",
    "#modify the last element of v2:\n",
    "v2[-1] = 123\n",
    "print(\"v1 after modifying v2:\", v1)\n",
    "print(\"v2 after modification:\", v2)\n"
   ]
  },
  {
   "cell_type": "markdown",
   "id": "c616013c-f9bb-4029-96a3-ead62d69b8ed",
   "metadata": {},
   "source": [
    "**Answer:**\n",
    "basic indexing creates often a view of the original array\n",
    "v1 = np.arrange(4) creates a 1D-array som slutar innan fyra, it menas v1 = [0, 1, 2, 3]\n",
    "\n",
    "v2 is a view of v1 because slicing creates a view by defaut, it means that we change v2, we can affect v1\n",
    "\n",
    "Since v2 is a view of v1, when we changed v2[-1] till 123 modified also v1, in this case 123 is the last element of v2\n"
   ]
  }
 ],
 "metadata": {
  "kernelspec": {
   "display_name": "Python 3 (ipykernel)",
   "language": "python",
   "name": "python3"
  },
  "language_info": {
   "codemirror_mode": {
    "name": "ipython",
    "version": 3
   },
   "file_extension": ".py",
   "mimetype": "text/x-python",
   "name": "python",
   "nbconvert_exporter": "python",
   "pygments_lexer": "ipython3",
   "version": "3.12.7"
  }
 },
 "nbformat": 4,
 "nbformat_minor": 5
}
